{
 "cells": [
  {
   "cell_type": "markdown",
   "metadata": {},
   "source": [
    "# Patient Record"
   ]
  },
  {
   "cell_type": "markdown",
   "metadata": {},
   "source": [
    "### Importing Libraries"
   ]
  },
  {
   "cell_type": "code",
   "execution_count": 5,
   "metadata": {},
   "outputs": [],
   "source": [
    "import wfdb\n",
    "import os\n",
    "import pandas as pd\n",
    "import numpy as np\n",
    "import csv"
   ]
  },
  {
   "cell_type": "code",
   "execution_count": 2,
   "metadata": {},
   "outputs": [],
   "source": [
    "cwd = os.chdir('/Users/ankushv/Desktop/files')"
   ]
  },
  {
   "cell_type": "markdown",
   "metadata": {},
   "source": [
    "### Pre-processing the data"
   ]
  },
  {
   "cell_type": "code",
   "execution_count": 3,
   "metadata": {},
   "outputs": [],
   "source": [
    "test_list = ['dat','hea','qrs']\n",
    "patientid = []\n",
    "\n",
    "for filename in os.listdir(cwd):\n",
    "    if any(ele in filename for ele in test_list):\n",
    "        patientid.append(os.path.splitext(filename)[0])\n",
    "        \n",
    "patientid = list(set(patientid))"
   ]
  },
  {
   "cell_type": "code",
   "execution_count": 4,
   "metadata": {},
   "outputs": [
    {
     "name": "stdout",
     "output_type": "stream",
     "text": [
      "          III Record        V3        V5\n",
      "0    3.771429  02092  3.771429  3.657143\n",
      "1    3.714286  02139  3.428571  3.714286\n",
      "2    3.666667  02170  3.666667  3.666667\n",
      "3    3.771429  02321  3.771429  1.828571\n",
      "4    3.666667  02312  3.666667  3.666667\n",
      "..        ...    ...       ...       ...\n",
      "134  3.666667  02226  3.666667  3.666667\n",
      "135  3.307692  02068  3.384615  2.512821\n",
      "136  3.771429  02136  3.771429  3.771429\n",
      "137  2.305556  02231  3.666667  3.666667\n",
      "138  3.666667  02184  3.666667  3.666667\n",
      "\n",
      "[139 rows x 4 columns]\n"
     ]
    }
   ],
   "source": [
    "df = pd.DataFrame()\n",
    "\n",
    "for i in patientid:\n",
    "    record = wfdb.rdrecord(i)\n",
    "    \n",
    "    p_sig = np.array(record.__dict__['p_signal'])\n",
    "    p_sig = np.nan_to_num(p_sig,0)\n",
    "\n",
    "    max_value = np.max(p_sig,0)\n",
    "\n",
    "    data = {'Record': record.__dict__['record_name'],\n",
    "            'III': max_value[0],\n",
    "            'V3': max_value[1],\n",
    "            'V5': max_value[2]\n",
    "            }\n",
    "\n",
    "    df = df.append(data,ignore_index=True)\n",
    "\n",
    "print(df)"
   ]
  },
  {
   "cell_type": "markdown",
   "metadata": {},
   "source": [
    "### Saving into a csv file"
   ]
  },
  {
   "cell_type": "code",
   "execution_count": 6,
   "metadata": {},
   "outputs": [],
   "source": [
    "df.to_csv('record.csv')"
   ]
  }
 ],
 "metadata": {
  "kernelspec": {
   "display_name": "Python 3",
   "language": "python",
   "name": "python3"
  },
  "language_info": {
   "codemirror_mode": {
    "name": "ipython",
    "version": 3
   },
   "file_extension": ".py",
   "mimetype": "text/x-python",
   "name": "python",
   "nbconvert_exporter": "python",
   "pygments_lexer": "ipython3",
   "version": "3.7.6"
  }
 },
 "nbformat": 4,
 "nbformat_minor": 4
}
